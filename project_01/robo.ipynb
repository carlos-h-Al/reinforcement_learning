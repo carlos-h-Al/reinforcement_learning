{
 "cells": [
  {
   "cell_type": "markdown",
   "metadata": {},
   "source": [
    "# Dependencies"
   ]
  },
  {
   "cell_type": "code",
   "execution_count": 6,
   "metadata": {},
   "outputs": [],
   "source": [
    "import random\n",
    "import torch\n",
    "import os\n",
    "import torch.nn as nn\n",
    "import torch.optim as optim\n",
    "import torch.nn.functional as F\n",
    "from collections import deque\n",
    "import numpy as np\n",
    "import matplotlib.pyplot as plt"
   ]
  },
  {
   "cell_type": "code",
   "execution_count": 7,
   "metadata": {},
   "outputs": [],
   "source": [
    "score_dict = []\n",
    "loss_acc = []"
   ]
  },
  {
   "cell_type": "markdown",
   "metadata": {},
   "source": [
    "# Initial training"
   ]
  },
  {
   "cell_type": "markdown",
   "metadata": {},
   "source": [
    "To streamline the training process, the turtle graphics module **was not** utilized in this notebook. Instead, the game was turned into a more 'virtual' version of itself. In this version, the agent moves in a grid the same size as the window in the turtle graphics, and the movements cannot be seen.\n",
    "\n",
    "I set up different rewards to get the agent to understand better what actions it needed to replicate. There are a total of three rewards.\n",
    "* one to eat the food, when the agent is on top of the food,\n",
    "* one to be in the tile next to the food, where 1 or 2 move could get it to eat the food,\n",
    "* one to be in the same x or y axis as the food.\n",
    "\n",
    "During this training, the agent was punished for going outside the game boundaries and for not eating any food for too many game iterations."
   ]
  },
  {
   "cell_type": "markdown",
   "metadata": {},
   "source": [
    "## Classes"
   ]
  },
  {
   "cell_type": "markdown",
   "metadata": {},
   "source": [
    "### Game class"
   ]
  },
  {
   "cell_type": "code",
   "execution_count": 24,
   "metadata": {},
   "outputs": [],
   "source": [
    "class AIgame_noturtle:\n",
    "    def __init__(self): \n",
    "        self.reset()\n",
    "\n",
    "    def reset(self):\n",
    "        # the agent (player) consists of x and y coordinates\n",
    "        self.player = [0, 0, 0] # third element is the direction\n",
    "        self._move_food()\n",
    "        self.game_iter = 0\n",
    "        self.score = 0\n",
    "\n",
    "    # checks if the agent is outside the game boundaries\n",
    "    def out_of_bounds(self, x, y):\n",
    "        if x > 325 or x < -325 or y > 325 or y < -325:\n",
    "            return True\n",
    "        else:\n",
    "            return False\n",
    "\n",
    "    # randomly moves food around the game field\n",
    "    def _move_food(self):\n",
    "        case = random.randint(0, 4)\n",
    "        if case == 0:\n",
    "            x = random.randrange(160, 321, 40)\n",
    "            y = random.randrange(-320, 321, 40)\n",
    "        elif case == 1:\n",
    "            x = random.randrange(-320, -159, 40)\n",
    "            y = random.randrange(-320, 321, 40)\n",
    "        elif case == 2:\n",
    "            x = random.randrange(-320, 321, 40)\n",
    "            y = random.randrange(160, 321, 40)\n",
    "        else:\n",
    "            x = random.randrange(-320, 321, 40)\n",
    "            y = random.randrange(-320, -159, 40)\n",
    "        self.food = (x, y)\n",
    "\n",
    "    def play_step(self, action, iter_n):\n",
    "        # adds a game iteration with each move\n",
    "        self.game_iter += 1\n",
    "        \n",
    "        # moves agent's body\n",
    "        self._move(action) \n",
    "        \n",
    "        # agent coordinates\n",
    "        x = self.player[0]\n",
    "        y = self.player[1]\n",
    "\n",
    "        # food coordinates\n",
    "        X = self.food[0]\n",
    "        Y = self.food[1]\n",
    "\n",
    "        # exploration reward\n",
    "        reward = 0\n",
    "        game_over = False\n",
    "\n",
    "        # check if the agent is in the game field \n",
    "        if self.out_of_bounds(x, y) or self.game_iter > iter_n: # max n of moves without nothing happening before game_over is triggered\n",
    "            game_over = True\n",
    "            reward = -20\n",
    "            return reward, game_over, self.score\n",
    "\n",
    "        # tier 1 area - agent eats food\n",
    "        if X == x and Y == y:\n",
    "            self.score += 1\n",
    "            reward = 20\n",
    "            self.game_iter = 0\n",
    "            self._move_food()\n",
    "        \n",
    "        # tier 2 area - agent is 1 block next to food\n",
    "        if X-42<x<X+42 and Y-42<y<Y+42: # 82\n",
    "            reward = 10\n",
    "\n",
    "        # axis area - agent finds itself on the same x or y axis as the food\n",
    "        if Y == y or X == x:\n",
    "            reward = 5\n",
    "        \n",
    "        return reward, game_over, self.score\n",
    "\n",
    "    # move player left, right or straight\n",
    "    def _move(self, action):\n",
    "        if np.array_equal(action, [0, 1, 0]): # turn right\n",
    "            if self.player[-1] == 0: # the agent is going up\n",
    "                self.player[0] = self.player[0] + 40\n",
    "                self.player[-1] = 1\n",
    "            elif self.player[-1] == 1: # the agent is going right\n",
    "                self.player[1] = self.player[1] - 40\n",
    "                self.player[-1] = 2\n",
    "            elif self.player[-1] == 2: # the agent is going down\n",
    "                self.player[0] = self.player[0] - 40\n",
    "                self.player[-1] = 3 # going left\n",
    "            else: # the agent is going left\n",
    "                self.player[1] = self.player[1] + 40\n",
    "                self.player[-1] = 0 # going up\n",
    "\n",
    "\n",
    "        elif np.array_equal(action, [0, 0, 1]): # turn left\n",
    "            if self.player[-1] == 0: # the agent is going up\n",
    "                self.player[0] = self.player[0] - 40\n",
    "                self.player[-1] = 3\n",
    "            elif self.player[-1] == 1: # the agent is going right\n",
    "                self.player[1] = self.player[1] + 40\n",
    "                self.player[-1] = 0\n",
    "            elif self.player[-1] == 2: # the agent is going down\n",
    "                self.player[0] = self.player[0] + 40\n",
    "                self.player[-1] = 1 # going right\n",
    "            else: # the agent is going left\n",
    "                self.player[1] = self.player[1] - 40\n",
    "                self.player[-1] = 2 # going down\n",
    "\n",
    "\n",
    "        elif np.array_equal(action, [1, 0, 0]): # go straight\n",
    "            if self.player[-1] == 0: # the agent is going up\n",
    "                self.player[1] = self.player[1] + 40\n",
    "            elif self.player[-1] == 1: # the agent is going right\n",
    "                self.player[0] = self.player[0] + 40\n",
    "            elif self.player[-1] == 2: # the agent is going down\n",
    "                self.player[1] = self.player[1] - 40\n",
    "            else: # the agent is going left\n",
    "                self.player[0] = self.player[0] - 40"
   ]
  },
  {
   "cell_type": "markdown",
   "metadata": {},
   "source": [
    "### Model class"
   ]
  },
  {
   "cell_type": "code",
   "execution_count": 10,
   "metadata": {},
   "outputs": [],
   "source": [
    "class Linear_QNet(nn.Module):\n",
    "    def __init__(self, input_size, hidden_size, output_size):\n",
    "        super().__init__()\n",
    "        self.linear1 = nn.Linear(input_size, hidden_size)\n",
    "        self.linear2 = nn.Linear(hidden_size, output_size)\n",
    "\n",
    "    def forward(self, x):\n",
    "        # connects the 2 linear layers with a ReLU function\n",
    "        return self.linear2(F.relu(self.linear1(x)))\n",
    "\n",
    "class QTrainer:\n",
    "    def __init__(self, model, lr, gamma):\n",
    "        self.lr = lr\n",
    "        self.gamma = gamma\n",
    "        self.model = model\n",
    "        self.optimizer = optim.Adam(model.parameters(), lr=self.lr)\n",
    "        # Mean Squared Error as loss function\n",
    "        self.criterion = nn.MSELoss()\n",
    "\n",
    "    def train_step(self, state, action, reward, next_state, done):\n",
    "        state = torch.tensor(state, dtype=torch.float)\n",
    "        next_state = torch.tensor(next_state, dtype=torch.float)\n",
    "        action = torch.tensor(action, dtype=torch.long)\n",
    "        reward = torch.tensor(reward, dtype=torch.float)\n",
    "\n",
    "        # unsqueeze the tensors to add a batch size if necessary\n",
    "        if len(state.shape) == 1:\n",
    "            state = torch.unsqueeze(state, 0)\n",
    "            next_state = torch.unsqueeze(next_state, 0)\n",
    "            action = torch.unsqueeze(action, 0)\n",
    "            reward = torch.unsqueeze(reward, 0)\n",
    "            done = (done, )\n",
    "\n",
    "        # predicted Q values with current state\n",
    "        pred = self.model(state)\n",
    "\n",
    "        # enstablish target for the current state\n",
    "        target = pred.clone()\n",
    "        for idx in range(len(done)):\n",
    "            Q_new = reward[idx]\n",
    "            if not done[idx]:\n",
    "                Q_new = reward[idx] + self.gamma * torch.max(self.model(next_state[idx]))\n",
    "\n",
    "            target[idx][torch.argmax(action[idx]).item()] = Q_new\n",
    "            \n",
    "        self.optimizer.zero_grad()\n",
    "        loss = self.criterion(target, pred)\n",
    "        loss.backward()\n",
    "        self.optimizer.step()\n",
    "        return loss"
   ]
  },
  {
   "cell_type": "markdown",
   "metadata": {},
   "source": [
    "### Agent class"
   ]
  },
  {
   "cell_type": "code",
   "execution_count": 12,
   "metadata": {},
   "outputs": [],
   "source": [
    "MAX_MEMORY = 100_000 # actions, state, reward, next state, memory size\n",
    "BATCH_SIZE = 1000 \n",
    "\n",
    "class Agent_NT:\n",
    "    def __init__(self, lr, hidden_u, gamma):\n",
    "        self.n_games = 0\n",
    "        self.epsilon = 0 # randomness\n",
    "        self.gamma = gamma # discount rate\n",
    "        self.memory = deque(maxlen=MAX_MEMORY) \n",
    "        torch.manual_seed(37) # initialize each new model with the same random weights\n",
    "        self.model = Linear_QNet(13, hidden_u, 3)\n",
    "        self.trainer = QTrainer(self.model, lr=lr, gamma=self.gamma)\n",
    "\n",
    "\n",
    "    def get_state(self, game):\n",
    "        # gets agent's coordinates and direction\n",
    "        x = game.player[0]\n",
    "        y = game.player[1]\n",
    "        dir = game.player[-1]\n",
    "        # 0 - Up | 1 - right | 2 - Down | 3 - Left\n",
    "\n",
    "        state = [\n",
    "            # Danger straight\n",
    "            (dir == 0 and game.out_of_bounds(x, y+40)) or \n",
    "            (dir == 1 and game.out_of_bounds(x+40, y)) or \n",
    "            (dir == 2 and game.out_of_bounds(x, y-40)) or \n",
    "            (dir == 3 and game.out_of_bounds(x-40, y)),\n",
    "\n",
    "            # Danger right\n",
    "            (dir == 0 and game.out_of_bounds(x+40, y)) or \n",
    "            (dir == 1 and game.out_of_bounds(x, y-40)) or \n",
    "            (dir == 2 and game.out_of_bounds(x-40, y)) or \n",
    "            (dir == 3 and game.out_of_bounds(x, y+40)),\n",
    "\n",
    "            # Danger left\n",
    "            (dir == 0 and game.out_of_bounds(x-40, y)) or \n",
    "            (dir == 1 and game.out_of_bounds(x, y+40)) or \n",
    "            (dir == 2 and game.out_of_bounds(x+40, y)) or \n",
    "            (dir == 3 and game.out_of_bounds(x, y-40)),\n",
    "            \n",
    "            # Move direction\n",
    "            dir == 3, # left direction\n",
    "            dir == 1, # right direction\n",
    "            dir == 0, # up direction\n",
    "            dir == 2, # down direction\n",
    "            \n",
    "            # Food location \n",
    "            game.food[0] < x,  # food left\n",
    "            game.food[0] > x,  # food right\n",
    "            game.food[1] > y,  # food up\n",
    "            game.food[1] < y,  # food down\n",
    "            game.food[0] == x, # same x axis as food\n",
    "            game.food[1] == y  # same y axis as food\n",
    "            ]\n",
    "\n",
    "        return np.array(state, dtype=int)\n",
    "    \n",
    "    # return the model weights, to be called after training completion\n",
    "    def get_model(self):\n",
    "        return self.model\n",
    "\n",
    "    def remember(self, state, action, reward, next_state, done):\n",
    "        self.memory.append((state, action, reward, next_state, done)) # popleft if MAX_MEMORY is reached\n",
    "\n",
    "    def train_long_memory(self):\n",
    "        if len(self.memory) > BATCH_SIZE:\n",
    "            mini_sample = random.sample(self.memory, BATCH_SIZE)\n",
    "        else:\n",
    "            mini_sample = self.memory\n",
    "\n",
    "        states, actions, rewards, next_states, dones = zip(*mini_sample)\n",
    "        return self.trainer.train_step(states, actions, rewards, next_states, dones)\n",
    "\n",
    "    def train_short_memory(self, state, action, reward, next_state, done):\n",
    "        self.trainer.train_step(state, action, reward, next_state, done)\n",
    "\n",
    "    def get_action(self, state, epochs):\n",
    "        # random moves: tradeoff exploration / exploitation\n",
    "        self.epsilon = int(epochs - epochs/10) - self.n_games\n",
    "        final_move = [0,0,0]\n",
    "        if random.randint(0, int(epochs - ((epochs/10) * 2))) < self.epsilon:\n",
    "            move = random.randint(0, 2)\n",
    "            final_move[move] = 1\n",
    "        else:\n",
    "            state0 = torch.tensor(state, dtype=torch.float)\n",
    "            prediction = self.model(state0)\n",
    "            move = torch.argmax(prediction).item()\n",
    "            final_move[move] = 1\n",
    "\n",
    "        return final_move"
   ]
  },
  {
   "cell_type": "markdown",
   "metadata": {},
   "source": [
    "## Training loop"
   ]
  },
  {
   "cell_type": "markdown",
   "metadata": {},
   "source": [
    "### Functions"
   ]
  },
  {
   "cell_type": "code",
   "execution_count": 121,
   "metadata": {},
   "outputs": [],
   "source": [
    "def plot_score(x, record):\n",
    "    plt.plot(x)\n",
    "    plt.grid(True)\n",
    "    plt.xlim(0, len(x))\n",
    "    if record < 200:\n",
    "        plt.ylim(0, (record + 5))\n",
    "    else:\n",
    "        plt.ylim(0, (record + 500))"
   ]
  },
  {
   "cell_type": "code",
   "execution_count": 53,
   "metadata": {},
   "outputs": [],
   "source": [
    "def train(epochs, lr, hidden_u, gamma, score_d, loss_l, iterations):\n",
    "    s_dict = {'score': [],\n",
    "                'h_score': 0}\n",
    "    updates = range(0, epochs, int((epochs/10)/2))\n",
    "    loss = []\n",
    "    total_score = 0\n",
    "    record = 0\n",
    "    agent = Agent_NT(lr, hidden_u, gamma)\n",
    "    game = AIgame_noturtle()\n",
    "\n",
    "    while epochs != agent.n_games:\n",
    "        # get old state\n",
    "        state_old = agent.get_state(game)\n",
    "\n",
    "        # get move\n",
    "        final_move = agent.get_action(state_old, epochs)\n",
    "\n",
    "        # perform move and get new state\n",
    "        reward, done, score = game.play_step(final_move, iterations)\n",
    "        state_new = agent.get_state(game)\n",
    "\n",
    "        # train short memory\n",
    "        agent.train_short_memory(state_old, final_move, reward, state_new, done)\n",
    "\n",
    "        # remember\n",
    "        agent.remember(state_old, final_move, reward, state_new, done)\n",
    "\n",
    "        # when game over\n",
    "        if done:\n",
    "            # train long memory\n",
    "            loop_loss = agent.train_long_memory()\n",
    "            loss.append(loop_loss)\n",
    "            s_dict['score'].append(game.score)\n",
    "            game.reset()\n",
    "            agent.n_games += 1\n",
    "\n",
    "            # update highest score\n",
    "            if score > record:\n",
    "                record = score\n",
    "\n",
    "            # print training updates\n",
    "            if agent.n_games in updates:\n",
    "                updated_loss = sum(loss) / len(loss)\n",
    "                loss_l.append(updated_loss)\n",
    "                print(f'Epochs: {agent.n_games} | Loss: {updated_loss:.4f} | High score: {record}')\n",
    "\n",
    "            total_score += score\n",
    "\n",
    "    updated_loss = sum(loss) / len(loss)\n",
    "    print(f'Epochs: {epochs} | Loss: {updated_loss:.4f} | High score: {record}')\n",
    "    s_dict['h_score'] = record\n",
    "    # appends the dictionary for future data visualization\n",
    "    score_d.append(s_dict)\n",
    "    return agent.get_model()"
   ]
  },
  {
   "cell_type": "markdown",
   "metadata": {},
   "source": [
    "### Model 0"
   ]
  },
  {
   "cell_type": "code",
   "execution_count": 54,
   "metadata": {},
   "outputs": [
    {
     "name": "stdout",
     "output_type": "stream",
     "text": [
      "Epochs: 30 | Loss: 2.8796 | High score: 2\n",
      "Epochs: 60 | Loss: 2.7841 | High score: 2\n",
      "Epochs: 90 | Loss: 2.8293 | High score: 2\n",
      "Epochs: 120 | Loss: 2.8564 | High score: 2\n",
      "Epochs: 150 | Loss: 2.8855 | High score: 2\n",
      "Epochs: 180 | Loss: 2.9203 | High score: 3\n",
      "Epochs: 210 | Loss: 2.9303 | High score: 3\n",
      "Epochs: 240 | Loss: 2.9529 | High score: 3\n",
      "Epochs: 270 | Loss: 2.9732 | High score: 4\n",
      "Epochs: 300 | Loss: 2.9992 | High score: 4\n",
      "Epochs: 330 | Loss: 3.0304 | High score: 4\n",
      "Epochs: 360 | Loss: 3.0435 | High score: 5\n",
      "Epochs: 390 | Loss: 3.0530 | High score: 7\n",
      "Epochs: 420 | Loss: 3.0781 | High score: 7\n",
      "Epochs: 450 | Loss: 3.0964 | High score: 11\n",
      "Epochs: 480 | Loss: 3.1005 | High score: 11\n",
      "Epochs: 510 | Loss: 3.1153 | High score: 14\n",
      "Epochs: 540 | Loss: 3.1443 | High score: 14\n",
      "Epochs: 570 | Loss: 3.1646 | High score: 14\n",
      "Epochs: 600 | Loss: 3.1945 | High score: 31\n"
     ]
    }
   ],
   "source": [
    "model_0 = train(epochs=600, lr=0.0001, hidden_u=256, gamma=0.6, score_d=score_dict, loss_l=loss_acc, iterations=400)"
   ]
  },
  {
   "cell_type": "code",
   "execution_count": 59,
   "metadata": {},
   "outputs": [
    {
     "name": "stdout",
     "output_type": "stream",
     "text": [
      "Model_0 highest score: 31\n"
     ]
    },
    {
     "data": {
      "image/png": "[encoded data removed]",
      "text/plain": [
       "<Figure size 640x480 with 1 Axes>"
      ]
     },
     "metadata": {},
     "output_type": "display_data"
    }
   ],
   "source": [
    "print(f'Model_0 highest score: {score_dict[5]['h_score']}')\n",
    "plot_score(x=score_dict[5]['score'], record=score_dict[5]['h_score'])"
   ]
  },
  {
   "cell_type": "markdown",
   "metadata": {},
   "source": [
    "### Model 1"
   ]
  },
  {
   "cell_type": "code",
   "execution_count": 57,
   "metadata": {},
   "outputs": [
    {
     "name": "stdout",
     "output_type": "stream",
     "text": [
      "Epochs: 30 | Loss: 3.1815 | High score: 2\n",
      "Epochs: 60 | Loss: 3.1712 | High score: 2\n",
      "Epochs: 90 | Loss: 3.1491 | High score: 2\n",
      "Epochs: 120 | Loss: 3.1463 | High score: 2\n",
      "Epochs: 150 | Loss: 3.1572 | High score: 2\n",
      "Epochs: 180 | Loss: 3.1359 | High score: 2\n",
      "Epochs: 210 | Loss: 3.1019 | High score: 3\n",
      "Epochs: 240 | Loss: 3.1245 | High score: 4\n",
      "Epochs: 270 | Loss: 3.1463 | High score: 4\n",
      "Epochs: 300 | Loss: 3.1440 | High score: 6\n",
      "Epochs: 330 | Loss: 3.1373 | High score: 6\n",
      "Epochs: 360 | Loss: 3.1215 | High score: 6\n",
      "Epochs: 390 | Loss: 3.1105 | High score: 6\n",
      "Epochs: 420 | Loss: 3.1121 | High score: 9\n",
      "Epochs: 450 | Loss: 3.1214 | High score: 9\n",
      "Epochs: 480 | Loss: 3.1247 | High score: 9\n",
      "Epochs: 510 | Loss: 3.1325 | High score: 14\n",
      "Epochs: 540 | Loss: 3.1333 | High score: 14\n",
      "Epochs: 570 | Loss: 3.1092 | High score: 27\n",
      "Epochs: 600 | Loss: 3.0711 | High score: 81\n"
     ]
    }
   ],
   "source": [
    "model_1 = train(epochs=600, lr=0.0001, hidden_u=256, gamma=0.6, score_d=score_dict, loss_l=loss_acc, iterations=600)"
   ]
  },
  {
   "cell_type": "code",
   "execution_count": 61,
   "metadata": {},
   "outputs": [
    {
     "name": "stdout",
     "output_type": "stream",
     "text": [
      "Model_1 highest score: 81\n"
     ]
    },
    {
     "data": {
      "image/png": "[encoded data removed]",
      "text/plain": [
       "<Figure size 640x480 with 1 Axes>"
      ]
     },
     "metadata": {},
     "output_type": "display_data"
    }
   ],
   "source": [
    "print(f'Model_1 highest score: {score_dict[6]['h_score']}')\n",
    "plot_score(x=score_dict[6]['score'], record=score_dict[6]['h_score'])"
   ]
  },
  {
   "cell_type": "markdown",
   "metadata": {},
   "source": [
    "### Model 2"
   ]
  },
  {
   "cell_type": "code",
   "execution_count": 29,
   "metadata": {},
   "outputs": [
    {
     "name": "stdout",
     "output_type": "stream",
     "text": [
      "Epochs: 40 | Loss: 3.3465 | High score: 1\n",
      "Epochs: 80 | Loss: 3.4510 | High score: 1\n",
      "Epochs: 120 | Loss: 3.4072 | High score: 2\n",
      "Epochs: 160 | Loss: 3.3746 | High score: 2\n",
      "Epochs: 200 | Loss: 3.3511 | High score: 2\n",
      "Epochs: 240 | Loss: 3.3604 | High score: 2\n",
      "Epochs: 280 | Loss: 3.3670 | High score: 2\n",
      "Epochs: 320 | Loss: 3.3549 | High score: 3\n",
      "Epochs: 360 | Loss: 3.3514 | High score: 4\n",
      "Epochs: 400 | Loss: 3.3498 | High score: 11\n",
      "Epochs: 440 | Loss: 3.3475 | High score: 11\n",
      "Epochs: 480 | Loss: 3.3339 | High score: 11\n",
      "Epochs: 520 | Loss: 3.3263 | High score: 12\n",
      "Epochs: 560 | Loss: 3.3235 | High score: 12\n",
      "Epochs: 600 | Loss: 3.3117 | High score: 24\n",
      "Epochs: 640 | Loss: 3.3026 | High score: 24\n",
      "Epochs: 680 | Loss: 3.2937 | High score: 43\n",
      "Epochs: 720 | Loss: 3.2713 | High score: 194\n",
      "Epochs: 760 | Loss: 3.2046 | High score: 337877\n",
      "Epochs: 800 | Loss: 3.1250 | High score: 337877\n"
     ]
    }
   ],
   "source": [
    "model_2 = train(epochs=800, lr=0.0001, hidden_u=256, gamma=0.6, score_d=score_dict, loss_l=loss_acc, iterations=800)"
   ]
  },
  {
   "cell_type": "code",
   "execution_count": 62,
   "metadata": {},
   "outputs": [
    {
     "name": "stdout",
     "output_type": "stream",
     "text": [
      "Model_2 highest score: 337877\n"
     ]
    },
    {
     "data": {
      "image/png": "[encoded data removed]",
      "text/plain": [
       "<Figure size 640x480 with 1 Axes>"
      ]
     },
     "metadata": {},
     "output_type": "display_data"
    }
   ],
   "source": [
    "print(f'Model_2 highest score: {score_dict[2]['h_score']}')\n",
    "plot_score(x=score_dict[2]['score'], record=score_dict[2]['h_score'])"
   ]
  },
  {
   "cell_type": "markdown",
   "metadata": {},
   "source": [
    "## Saving the best model"
   ]
  },
  {
   "cell_type": "markdown",
   "metadata": {},
   "source": [
    "This model performance will be tested with a python script using **Turtle graphics**"
   ]
  },
  {
   "cell_type": "code",
   "execution_count": 33,
   "metadata": {},
   "outputs": [],
   "source": [
    "save_directory = 'model'\n",
    "\n",
    "# Ensure the directory exists\n",
    "os.makedirs(save_directory, exist_ok=True)"
   ]
  },
  {
   "cell_type": "code",
   "execution_count": 35,
   "metadata": {},
   "outputs": [],
   "source": [
    "save_path = os.path.join(save_directory, 'killer_model.pth')\n",
    "torch.save(model_2.state_dict(), save_path)"
   ]
  },
  {
   "cell_type": "markdown",
   "metadata": {},
   "source": [
    "### Evaluating the best model"
   ]
  },
  {
   "cell_type": "markdown",
   "metadata": {},
   "source": [
    "After testing `Model_2` with the Turtle graphics, it was clear that the agent learned well the goal of the game. Although, it would occasionally trap itself in an endless loop. This would occur always in the same positions. Seeing this issue, it was clear that the model required some finetuning."
   ]
  },
  {
   "cell_type": "markdown",
   "metadata": {},
   "source": [
    "**Model results in turtle environment**\n",
    "\n",
    "Game 01/10: score - 933/5000  \n",
    "Game 02/10: score - 2108/5000  \n",
    "Game 03/10: score - 5000/5000  \n",
    "Game 04/10: score - 738/5000  \n",
    "Game 05/10: score - 3476/5000  \n",
    "Game 06/10: score - 2565/5000  \n",
    "Game 07/10: score - 1444/5000  \n",
    "Game 08/10: score - 505/5000  \n",
    "Game 09/10: score - 4682/5000  \n",
    "Game 10/10: score - 5000/5000"
   ]
  },
  {
   "cell_type": "markdown",
   "metadata": {},
   "source": [
    "# Finetuning"
   ]
  },
  {
   "cell_type": "markdown",
   "metadata": {},
   "source": [
    "Three different methods were used to try and solve this issue:\n",
    "\n",
    "* The first one kept all the rewards the same\n",
    "* The second one penalized one loop the agent got stuck on, and kept the reward for eating the food and being on the same axis as the food\n",
    "* The last one penalized two types of loop that the agent struggled with, one where the agent would keep running in circle at the corner of the screen, and another one where the agent would keep circumnavigating the food instead of eating it. The food and the axis reward stayed the same.\n",
    "\n",
    "To finetune the agent, the third method was used, since it yielded the best results. During finetuning, if the agent would perform the same action 15 times in a row (such as turning right or left constantly) it would receive a penalty of **-5**. This action replication would be checked at each `play_step`, meaning that the negative reward would stack quickly when the agent got stuck in the loop.  \n",
    "\n",
    "During the finetuning, the epsilon value was completely taken out, making use of 100% exploitation."
   ]
  },
  {
   "cell_type": "markdown",
   "metadata": {},
   "source": [
    "## Classes"
   ]
  },
  {
   "cell_type": "markdown",
   "metadata": {},
   "source": [
    "**Main changes**  \n",
    "* Agent class: fully exploits the previously trained model, no more exploration\n",
    "* Game class: the 2 loops the agents gets stuck are rewarded negatively, the tier 2 reward area was removed."
   ]
  },
  {
   "cell_type": "markdown",
   "metadata": {},
   "source": [
    "### Agent class"
   ]
  },
  {
   "cell_type": "code",
   "execution_count": 48,
   "metadata": {},
   "outputs": [],
   "source": [
    "MAX_MEMORY = 100_000\n",
    "BATCH_SIZE = 1000 \n",
    "\n",
    "class Agent_finetune:\n",
    "    def __init__(self, lr, hidden_u, gamma):\n",
    "        self.n_games = 0\n",
    "        # the epsilon value is removed for finetuning\n",
    "        self.gamma = gamma # discount rate\n",
    "        self.memory = deque(maxlen=MAX_MEMORY)\n",
    "        self.model = Linear_QNet(13, hidden_u, 3)\n",
    "        # load the saved best model\n",
    "        self.model.load_state_dict(torch.load(f='model/killer_model.pth'))\n",
    "        self.trainer = QTrainer(self.model, lr=lr, gamma=self.gamma)\n",
    "\n",
    "\n",
    "    def get_state(self, game):\n",
    "        x = game.player[0]\n",
    "        y = game.player[1]\n",
    "        dir = game.player[-1]\n",
    "\n",
    "        state = [\n",
    "            # Danger straight\n",
    "            (dir == 0 and game.out_of_bounds(x, y+40)) or \n",
    "            (dir == 1 and game.out_of_bounds(x+40, y)) or \n",
    "            (dir == 2 and game.out_of_bounds(x, y-40)) or \n",
    "            (dir == 3 and game.out_of_bounds(x-40, y)),\n",
    "\n",
    "            # Danger right\n",
    "            (dir == 0 and game.out_of_bounds(x+40, y)) or \n",
    "            (dir == 1 and game.out_of_bounds(x, y-40)) or \n",
    "            (dir == 2 and game.out_of_bounds(x-40, y)) or \n",
    "            (dir == 3 and game.out_of_bounds(x, y+40)),\n",
    "\n",
    "            # Danger left\n",
    "            (dir == 0 and game.out_of_bounds(x-40, y)) or \n",
    "            (dir == 1 and game.out_of_bounds(x, y+40)) or \n",
    "            (dir == 2 and game.out_of_bounds(x+40, y)) or \n",
    "            (dir == 3 and game.out_of_bounds(x, y-40)),\n",
    "            \n",
    "            # Move direction\n",
    "            dir == 3, # dir_l,\n",
    "            dir == 1, # dir_r,\n",
    "            dir == 0, # dir_u,\n",
    "            dir == 2, # dir_d,\n",
    "            \n",
    "            # Food location \n",
    "            game.food[0] < x,  \n",
    "            game.food[0] > x,  \n",
    "            game.food[1] > y,  \n",
    "            game.food[1] < y,  \n",
    "            game.food[0] == x,\n",
    "            game.food[1] == y\n",
    "            ]\n",
    "\n",
    "        return np.array(state, dtype=int)\n",
    "    \n",
    "    def get_model(self):\n",
    "        return self.model\n",
    "\n",
    "    def remember(self, state, action, reward, next_state, done):\n",
    "        self.memory.append((state, action, reward, next_state, done)) \n",
    "\n",
    "    def train_long_memory(self):\n",
    "        if len(self.memory) > BATCH_SIZE:\n",
    "            mini_sample = random.sample(self.memory, BATCH_SIZE) \n",
    "        else:\n",
    "            mini_sample = self.memory\n",
    "\n",
    "        states, actions, rewards, next_states, dones = zip(*mini_sample)\n",
    "        return self.trainer.train_step(states, actions, rewards, next_states, dones)\n",
    "\n",
    "    def train_short_memory(self, state, action, reward, next_state, done):\n",
    "        self.trainer.train_step(state, action, reward, next_state, done)\n",
    "\n",
    "    def get_action(self, state):\n",
    "        final_move = [0,0,0]\n",
    "        state0 = torch.tensor(state, dtype=torch.float)\n",
    "        prediction = self.model(state0)\n",
    "        move = torch.argmax(prediction).item()\n",
    "        final_move[move] = 1\n",
    "\n",
    "        return final_move"
   ]
  },
  {
   "cell_type": "markdown",
   "metadata": {},
   "source": [
    "### Game class"
   ]
  },
  {
   "cell_type": "code",
   "execution_count": 111,
   "metadata": {},
   "outputs": [],
   "source": [
    "class AIgame_finetune:\n",
    "    def __init__(self): \n",
    "        self.reset()\n",
    "\n",
    "    def reset(self):\n",
    "        self.player = [0, 0, 0]\n",
    "        self._move_food()\n",
    "        self.game_iter = 0\n",
    "        self.score = 0\n",
    "\n",
    "    def out_of_bounds(self, x, y):\n",
    "        if x > 325 or x < -325 or y > 325 or y < -325:\n",
    "            return True\n",
    "        else:\n",
    "            return False\n",
    "\n",
    "    def _move_food(self):\n",
    "        case = random.randint(0, 4)\n",
    "        if case == 0:\n",
    "            x = random.randrange(160, 321, 40)\n",
    "            y = random.randrange(-320, 321, 40)\n",
    "        elif case == 1:\n",
    "            x = random.randrange(-320, -159, 40)\n",
    "            y = random.randrange(-320, 321, 40)\n",
    "        elif case == 2:\n",
    "            x = random.randrange(-320, 321, 40)\n",
    "            y = random.randrange(160, 321, 40)\n",
    "        else:\n",
    "            x = random.randrange(-320, 321, 40)\n",
    "            y = random.randrange(-320, -159, 40)\n",
    "        self.food = (x, y)\n",
    "\n",
    "    def play_step(self, action, iter_n, actions_memory):\n",
    "        self.game_iter += 1\n",
    "        \n",
    "        # move agent\n",
    "        self._move(action)\n",
    "        \n",
    "        # agent coor\n",
    "        x = self.player[0]\n",
    "        y = self.player[1]\n",
    "        # food coor\n",
    "        X = self.food[0]\n",
    "        Y = self.food[1]\n",
    "\n",
    "        # exploring reward \n",
    "        reward = 0\n",
    "\n",
    "        # check if agent is out of bounds\n",
    "        game_over = False\n",
    "        if self.out_of_bounds(x, y) or self.game_iter > iter_n: # max n of moves without nothing happening before game_over is triggered\n",
    "            game_over = True\n",
    "            reward = -30\n",
    "            return reward, game_over, self.score\n",
    "        \n",
    "        # check if agent is stuck in loop 1 and assign negative reward\n",
    "        if len(actions_memory) > 14:\n",
    "            count = 0\n",
    "            for act in actions_memory[-14:]:\n",
    "                if act == [0, 1, 0] or act == [0, 0, 1]:\n",
    "                    count += 1\n",
    "            if count == 15:\n",
    "                reward -= 5\n",
    "\n",
    "        # check if agent is stuck in loop 2 and assign negative reward\n",
    "        if len(actions_memory) > 19:\n",
    "            count = 0 \n",
    "            for i in range(10):\n",
    "                if actions_memory[-20+(i*2)] == [0, 1, 0] and actions_memory[-20+((i*2)+1)] == [1, 0, 0]:\n",
    "                    count += 1\n",
    "                if actions_memory[-20+(i*2)] == [1, 0, 0] and actions_memory[-20+((i*2)+1)] == [0, 1, 0]:\n",
    "                    count += 1\n",
    "                if actions_memory[-20+(i*2)] == [0, 0, 1] and actions_memory[-20+((i*2)+1)] == [1, 0, 0]:\n",
    "                    count += 1\n",
    "                if actions_memory[-20+(i*2)] == [1, 0, 0] and actions_memory[-20+((i*2)+1)] == [0, 0, 1]:\n",
    "                    count += 1\n",
    "            if count == 10:\n",
    "                reward -= 5\n",
    "\n",
    "        # tier 1 area\n",
    "        if X == x and Y == y:\n",
    "            self.score += 1\n",
    "            reward += 20\n",
    "            self.game_iter = 0\n",
    "            self._move_food()\n",
    "\n",
    "        # axis area\n",
    "        if Y == y or X == x:\n",
    "            reward += 2\n",
    "\n",
    "        # soft cap for max point in one game - this ensures that the agent does not continue to play for an excessively long game\n",
    "        if self.score == 2500:\n",
    "            reward += 50\n",
    "            game_over = True\n",
    "        \n",
    "        return reward, game_over, self.score\n",
    "\n",
    "    # move agent left, right or straight ahead\n",
    "    def _move(self, action):\n",
    "\n",
    "        if np.array_equal(action, [0, 1, 0]): # turn right\n",
    "            if self.player[-1] == 0: # the bot is going up\n",
    "                self.player[0] = self.player[0] + 40\n",
    "                self.player[-1] = 1\n",
    "            elif self.player[-1] == 1: # going right\n",
    "                self.player[1] = self.player[1] - 40\n",
    "                self.player[-1] = 2\n",
    "            elif self.player[-1] == 2: # going down\n",
    "                self.player[0] = self.player[0] - 40\n",
    "                self.player[-1] = 3 # going left\n",
    "            else: # going left\n",
    "                self.player[1] = self.player[1] + 40\n",
    "                self.player[-1] = 0 # going up\n",
    "\n",
    "\n",
    "        elif np.array_equal(action, [0, 0, 1]): # turn left\n",
    "            if self.player[-1] == 0: # the bot is going up\n",
    "                self.player[0] = self.player[0] - 40\n",
    "                self.player[-1] = 3\n",
    "            elif self.player[-1] == 1: # going right\n",
    "                self.player[1] = self.player[1] + 40\n",
    "                self.player[-1] = 0\n",
    "            elif self.player[-1] == 2: # going down\n",
    "                self.player[0] = self.player[0] + 40\n",
    "                self.player[-1] = 1 # going right\n",
    "            else: # going left\n",
    "                self.player[1] = self.player[1] - 40\n",
    "                self.player[-1] = 2 # going down\n",
    "\n",
    "\n",
    "        elif np.array_equal(action, [1, 0, 0]): # go straight\n",
    "            if self.player[-1] == 0: # the bot is going up\n",
    "                self.player[1] = self.player[1] + 40\n",
    "            elif self.player[-1] == 1: # going right\n",
    "                self.player[0] = self.player[0] + 40\n",
    "            elif self.player[-1] == 2: # going down\n",
    "                self.player[1] = self.player[1] - 40\n",
    "            else: # going left\n",
    "                self.player[0] = self.player[0] - 40"
   ]
  },
  {
   "cell_type": "markdown",
   "metadata": {},
   "source": [
    "## Training"
   ]
  },
  {
   "cell_type": "code",
   "execution_count": 112,
   "metadata": {},
   "outputs": [],
   "source": [
    "def train_ft_x(epochs, lr, hidden_u, gamma, score_d, loss_l, iterations):\n",
    "    s_dict = {'score': [],\n",
    "                'h_score': 0}\n",
    "    updates = range(0, epochs, int((epochs/10)/2))\n",
    "    memory = []\n",
    "    loss = []\n",
    "    total_score = 0\n",
    "    record = 0\n",
    "    agent = Agent_finetune(lr, hidden_u, gamma)\n",
    "    game = AIgame_finetune()\n",
    "\n",
    "    while epochs != agent.n_games:\n",
    "        # get old state\n",
    "        state_old = agent.get_state(game)\n",
    "\n",
    "        # get move\n",
    "        final_move = agent.get_action(state_old)\n",
    "\n",
    "        # adds action to actions memory\n",
    "        memory.append(final_move)\n",
    "\n",
    "        # perform move and get new state\n",
    "        reward, done, score = game.play_step(final_move, iterations, memory)\n",
    "\n",
    "        state_new = agent.get_state(game)\n",
    "\n",
    "        # train short memory\n",
    "        agent.train_short_memory(state_old, final_move, reward, state_new, done)\n",
    "\n",
    "        # remember\n",
    "        agent.remember(state_old, final_move, reward, state_new, done)\n",
    "\n",
    "        if done:\n",
    "            loop_loss = agent.train_long_memory()\n",
    "            loss.append(loop_loss)\n",
    "            s_dict['score'].append(game.score)\n",
    "            game.reset()\n",
    "            agent.n_games += 1\n",
    "            agent.train_long_memory()\n",
    "\n",
    "            if score > record:\n",
    "                record = score\n",
    "\n",
    "            if agent.n_games in updates:\n",
    "                updated_loss = sum(loss) / len(loss)\n",
    "                loss_l.append(updated_loss)\n",
    "                print(f'Epochs: {agent.n_games} | Loss: {updated_loss:.4f} | High score: {record}')\n",
    "\n",
    "            # plot_scores.append(score)\n",
    "            total_score += score\n",
    "    updated_loss = sum(loss) / len(loss)\n",
    "    print(f'Epochs: {epochs:03} | Loss: {updated_loss:.4f} | High score: {record}')\n",
    "    s_dict['h_score'] = record\n",
    "    score_d.append(s_dict)\n",
    "    return agent.get_model()"
   ]
  },
  {
   "cell_type": "code",
   "execution_count": 113,
   "metadata": {},
   "outputs": [
    {
     "name": "stdout",
     "output_type": "stream",
     "text": [
      "Epochs: 5 | Loss: 3.4355 | High score: 2500\n",
      "Epochs: 10 | Loss: 3.6220 | High score: 2500\n",
      "Epochs: 15 | Loss: 3.7113 | High score: 2500\n",
      "Epochs: 20 | Loss: 3.6450 | High score: 2500\n",
      "Epochs: 25 | Loss: 3.6726 | High score: 2500\n",
      "Epochs: 30 | Loss: 3.7233 | High score: 2500\n",
      "Epochs: 35 | Loss: 3.7207 | High score: 2500\n",
      "Epochs: 40 | Loss: 3.7114 | High score: 2500\n",
      "Epochs: 45 | Loss: 3.7034 | High score: 2500\n",
      "Epochs: 50 | Loss: 3.7289 | High score: 2500\n",
      "Epochs: 55 | Loss: 3.7413 | High score: 2500\n",
      "Epochs: 60 | Loss: 3.7382 | High score: 2500\n",
      "Epochs: 65 | Loss: 3.7374 | High score: 2500\n",
      "Epochs: 70 | Loss: 3.7440 | High score: 2500\n",
      "Epochs: 75 | Loss: 3.7445 | High score: 2500\n",
      "Epochs: 80 | Loss: 3.7444 | High score: 2500\n",
      "Epochs: 85 | Loss: 3.7383 | High score: 2500\n",
      "Epochs: 90 | Loss: 3.7306 | High score: 2500\n",
      "Epochs: 95 | Loss: 3.7253 | High score: 2500\n",
      "Epochs: 100 | Loss: 3.7276 | High score: 2500\n"
     ]
    }
   ],
   "source": [
    "ft = train_ft_x(epochs=100, lr=0.0001, hidden_u=256, gamma=0.9, score_d=score_dict, loss_l=loss_acc, iterations=1000)"
   ]
  },
  {
   "cell_type": "code",
   "execution_count": 122,
   "metadata": {},
   "outputs": [
    {
     "name": "stdout",
     "output_type": "stream",
     "text": [
      "Fine tuned model highest score: 2500\n"
     ]
    },
    {
     "data": {
      "image/png": "[encoded data removed]",
      "text/plain": [
       "<Figure size 640x480 with 1 Axes>"
      ]
     },
     "metadata": {},
     "output_type": "display_data"
    }
   ],
   "source": [
    "plot_score(x=score_dict[9]['score'], record=score_dict[9]['h_score'])\n",
    "print(f'Fine tuned model highest score: {score_dict[9]['h_score']}')"
   ]
  },
  {
   "cell_type": "markdown",
   "metadata": {},
   "source": [
    "## Saving the new best model"
   ]
  },
  {
   "cell_type": "code",
   "execution_count": 119,
   "metadata": {},
   "outputs": [],
   "source": [
    "save_path = os.path.join(save_directory, 'ft3_0.pth')\n",
    "torch.save(ft.state_dict(), save_path)"
   ]
  },
  {
   "cell_type": "markdown",
   "metadata": {},
   "source": [
    "# Testing"
   ]
  },
  {
   "cell_type": "markdown",
   "metadata": {},
   "source": [
    "## Classes"
   ]
  },
  {
   "cell_type": "code",
   "execution_count": 96,
   "metadata": {},
   "outputs": [],
   "source": [
    "class AIgame_test:\n",
    "    def __init__(self): \n",
    "        self.reset()\n",
    "\n",
    "    def reset(self):\n",
    "        self.player = [0, 0, 0]\n",
    "        self._move_food()\n",
    "        self.game_iter = 0\n",
    "        self.score = 0\n",
    "\n",
    "    def out_of_bounds(self, x, y):\n",
    "        if x > 325 or x < -325 or y > 325 or y < -325:\n",
    "            return True\n",
    "        else:\n",
    "            return False\n",
    "\n",
    "    def _move_food(self):\n",
    "        case = random.randint(0, 4)\n",
    "        if case == 0:\n",
    "            x = random.randrange(160, 321, 40)\n",
    "            y = random.randrange(-320, 321, 40)\n",
    "        elif case == 1:\n",
    "            x = random.randrange(-320, -159, 40)\n",
    "            y = random.randrange(-320, 321, 40)\n",
    "        elif case == 2:\n",
    "            x = random.randrange(-320, 321, 40)\n",
    "            y = random.randrange(160, 321, 40)\n",
    "        else:\n",
    "            x = random.randrange(-320, 321, 40)\n",
    "            y = random.randrange(-320, -159, 40)\n",
    "        self.food = (x, y)\n",
    "\n",
    "    def play_step(self, action, iter_n, rec):\n",
    "        self.game_iter += 1\n",
    "        \n",
    "        # move agent\n",
    "        self._move(action)\n",
    "        \n",
    "        # agent coor\n",
    "        x = self.player[0]\n",
    "        y = self.player[1]\n",
    "        # food coor\n",
    "        X = self.food[0]\n",
    "        Y = self.food[1]\n",
    "\n",
    "        # check if agent is out of bounds\n",
    "        game_over = False\n",
    "        if self.out_of_bounds(x, y) or self.game_iter > iter_n: # max n of moves without nothing happening before game_over is triggered\n",
    "            game_over = True\n",
    "            return game_over, self.score\n",
    "\n",
    "        # tier 1 area\n",
    "        if X == x and Y == y:\n",
    "            self.score += 1\n",
    "            self.game_iter = 0\n",
    "            self._move_food()\n",
    "\n",
    "        # soft cap for max point in one game - this ensures that the agent does not continue to play for an excessively long game\n",
    "        if self.score == rec:\n",
    "            game_over = True\n",
    "        \n",
    "        return game_over, self.score\n",
    "\n",
    "    # move player left, right or straight ahead\n",
    "    def _move(self, action):\n",
    "\n",
    "        if np.array_equal(action, [0, 1, 0]): # turn right\n",
    "            if self.player[-1] == 0: # the bot is going up\n",
    "                self.player[0] = self.player[0] + 40\n",
    "                self.player[-1] = 1\n",
    "            elif self.player[-1] == 1: # going right\n",
    "                self.player[1] = self.player[1] - 40\n",
    "                self.player[-1] = 2\n",
    "            elif self.player[-1] == 2: # going down\n",
    "                self.player[0] = self.player[0] - 40\n",
    "                self.player[-1] = 3 # going left\n",
    "            else: # going left\n",
    "                self.player[1] = self.player[1] + 40\n",
    "                self.player[-1] = 0 # going up\n",
    "\n",
    "\n",
    "        elif np.array_equal(action, [0, 0, 1]): # turn left\n",
    "            if self.player[-1] == 0: # the bot is going up\n",
    "                self.player[0] = self.player[0] - 40\n",
    "                self.player[-1] = 3\n",
    "            elif self.player[-1] == 1: # going right\n",
    "                self.player[1] = self.player[1] + 40\n",
    "                self.player[-1] = 0\n",
    "            elif self.player[-1] == 2: # going down\n",
    "                self.player[0] = self.player[0] + 40\n",
    "                self.player[-1] = 1 # going right\n",
    "            else: # going left\n",
    "                self.player[1] = self.player[1] - 40\n",
    "                self.player[-1] = 2 # going down\n",
    "\n",
    "\n",
    "        elif np.array_equal(action, [1, 0, 0]): # go straight\n",
    "            if self.player[-1] == 0: # the bot is going up\n",
    "                self.player[1] = self.player[1] + 40\n",
    "            elif self.player[-1] == 1: # going right\n",
    "                self.player[0] = self.player[0] + 40\n",
    "            elif self.player[-1] == 2: # going down\n",
    "                self.player[1] = self.player[1] - 40\n",
    "            else: # going left\n",
    "                self.player[0] = self.player[0] - 40"
   ]
  },
  {
   "cell_type": "code",
   "execution_count": 123,
   "metadata": {},
   "outputs": [],
   "source": [
    "class Agent:\n",
    "    def __init__(self, hidden_u):\n",
    "        self.n_games = 0\n",
    "        self.model = Linear_QNet(13, hidden_u, 3)\n",
    "        self.model.load_state_dict(torch.load(f='model/ft3_0.pth'))\n",
    "\n",
    "\n",
    "    def get_state(self, game):\n",
    "        x = game.player[0]\n",
    "        y = game.player[1]\n",
    "        dir = game.player[-1]\n",
    "\n",
    "        state = [\n",
    "            # Danger straight\n",
    "            (dir == 0 and game.out_of_bounds(x, y+40)) or \n",
    "            (dir == 1 and game.out_of_bounds(x+40, y)) or \n",
    "            (dir == 2 and game.out_of_bounds(x, y-40)) or \n",
    "            (dir == 3 and game.out_of_bounds(x-40, y)),\n",
    "\n",
    "            # Danger right\n",
    "            (dir == 0 and game.out_of_bounds(x+40, y)) or \n",
    "            (dir == 1 and game.out_of_bounds(x, y-40)) or \n",
    "            (dir == 2 and game.out_of_bounds(x-40, y)) or \n",
    "            (dir == 3 and game.out_of_bounds(x, y+40)),\n",
    "\n",
    "            # Danger left\n",
    "            (dir == 0 and game.out_of_bounds(x-40, y)) or \n",
    "            (dir == 1 and game.out_of_bounds(x, y+40)) or \n",
    "            (dir == 2 and game.out_of_bounds(x+40, y)) or \n",
    "            (dir == 3 and game.out_of_bounds(x, y-40)),\n",
    "            \n",
    "            # Move direction\n",
    "            dir == 3, # dir_l,\n",
    "            dir == 1, # dir_r,\n",
    "            dir == 0, # dir_u,\n",
    "            dir == 2, # dir_d,\n",
    "            \n",
    "            # Food location \n",
    "            game.food[0] < x,  \n",
    "            game.food[0] > x,  \n",
    "            game.food[1] > y,  \n",
    "            game.food[1] < y, \n",
    "            game.food[0] == x,\n",
    "            game.food[1] == y\n",
    "            ]\n",
    "\n",
    "        return np.array(state, dtype=int)\n",
    "\n",
    "    def get_action(self, state):\n",
    "        final_move = [0,0,0]\n",
    "        state0 = torch.tensor(state, dtype=torch.float)\n",
    "        prediction = self.model(state0)\n",
    "        move = torch.argmax(prediction).item()\n",
    "        final_move[move] = 1\n",
    "\n",
    "        return final_move"
   ]
  },
  {
   "cell_type": "markdown",
   "metadata": {},
   "source": [
    "## Testing function"
   ]
  },
  {
   "cell_type": "code",
   "execution_count": 101,
   "metadata": {},
   "outputs": [],
   "source": [
    "def play(ROUNDS, rec):\n",
    "    torch.manual_seed(37)\n",
    "    agent = Agent(256)\n",
    "    game = AIgame_test()\n",
    "\n",
    "\n",
    "    while ROUNDS != agent.n_games:\n",
    "        # get old state\n",
    "        state_old = agent.get_state(game)\n",
    "\n",
    "        # get move\n",
    "        final_move = agent.get_action(state_old)\n",
    "\n",
    "        # perform move and get new state\n",
    "        done, score = game.play_step(final_move, 1000, rec)\n",
    "\n",
    "        if done:\n",
    "            agent.n_games += 1\n",
    "            print(f\"Game {agent.n_games:02}/{ROUNDS}: score - {game.score}/{rec}\")\n",
    "            game.reset()"
   ]
  },
  {
   "cell_type": "markdown",
   "metadata": {},
   "source": [
    "## Results"
   ]
  },
  {
   "cell_type": "code",
   "execution_count": 124,
   "metadata": {},
   "outputs": [
    {
     "name": "stdout",
     "output_type": "stream",
     "text": [
      "Game 01/10: score - 100000/100000\n",
      "Game 02/10: score - 100000/100000\n",
      "Game 03/10: score - 100000/100000\n",
      "Game 04/10: score - 100000/100000\n",
      "Game 05/10: score - 100000/100000\n",
      "Game 06/10: score - 100000/100000\n",
      "Game 07/10: score - 100000/100000\n",
      "Game 08/10: score - 100000/100000\n",
      "Game 09/10: score - 100000/100000\n",
      "Game 10/10: score - 100000/100000\n"
     ]
    }
   ],
   "source": [
    "play(10, 100000)"
   ]
  },
  {
   "cell_type": "markdown",
   "metadata": {},
   "source": [
    "Out of 10 virtual games, the agent achieved a score of 100.000 in all of them. Still, in the game with turtle graphics the results were slightly different.  \n",
    "**Model results with turtle graphics**  \n",
    "\n",
    "Game 01/10: score - 291/5000  \n",
    "Game 02/10: score - 2046/5000  \n",
    "Game 03/10: score - 5000/5000  \n",
    "Game 04/10: score - 5000/5000  \n",
    "Game 05/10: score - 5000/5000  \n",
    "Game 06/10: score - 5000/5000  \n",
    "Game 07/10: score - 5000/5000  \n",
    "Game 08/10: score - 5000/5000  \n",
    "Game 09/10: score - 5000/5000  \n",
    "Game 10/10: score - 5000/5000  \n",
    "\n",
    "The results still show a major improvement from the previous model."
   ]
  }
 ],
 "metadata": {
  "kernelspec": {
   "display_name": "Python 3",
   "language": "python",
   "name": "python3"
  },
  "language_info": {
   "codemirror_mode": {
    "name": "ipython",
    "version": 3
   },
   "file_extension": ".py",
   "mimetype": "text/x-python",
   "name": "python",
   "nbconvert_exporter": "python",
   "pygments_lexer": "ipython3",
   "version": "3.12.1"
  }
 },
 "nbformat": 4,
 "nbformat_minor": 2
}
